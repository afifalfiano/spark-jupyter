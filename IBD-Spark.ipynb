{
 "cells": [
  {
   "cell_type": "code",
   "execution_count": 1,
   "id": "c457e868",
   "metadata": {},
   "outputs": [],
   "source": [
    "from pyspark.sql import SparkSession\n",
    "spark = SparkSession.builder.master(\"local[*]\").getOrCreate()"
   ]
  },
  {
   "cell_type": "code",
   "execution_count": 2,
   "id": "afed13d0",
   "metadata": {},
   "outputs": [
    {
     "name": "stderr",
     "output_type": "stream",
     "text": [
      "                                                                                \r"
     ]
    },
    {
     "name": "stdout",
     "output_type": "stream",
     "text": [
      "+-------+----------+--------+----------+--------+--------------------+\n",
      "|word_id|      word|up_votes|down_votes|  author|          definition|\n",
      "+-------+----------+--------+----------+--------+--------------------+\n",
      "|0000007|     Janky|     296|       255|dc397b2f|Undesirable; less...|\n",
      "|0000008|  slumpin'|      16|        37|dc397b2f|low down and funk...|\n",
      "|0000009|  yayeeyay|      19|        27|dc397b2f|affirmation; sugg...|\n",
      "|0000012| hard-core|     162|        96|d1610749|anything out of o...|\n",
      "|0000013|    brutal|      12|        45|40ece1ef|anything that mak...|\n",
      "|0000014|    skanky|       9|        48|485e4db7|Anything of or pe...|\n",
      "|0000015|    ho-bag|      26|        27|b37fba05|a term of endearm...|\n",
      "|0000016|   massive|      36|        45|b9dcf126|really really goo...|\n",
      "|0000017|       wtf|     183|        99|a6c97ba3|what the fuck? ;;...|\n",
      "|0000019|      Hazy|     272|       184|49bc960d|A guys state of m...|\n",
      "|0000021|      hork|      62|        67|b9dcf126|            to steal|\n",
      "|0000022|     hecka|       8|        18|b9dcf126|see synonyms at h...|\n",
      "|0000023|     hella|       8|        15|b9dcf126|see synonyms at [...|\n",
      "|0000024|     hecka|       7|        30|ae3bba68|a description of ...|\n",
      "|0000028|wet wagons|       4|         9|543e595a|        to smell bad|\n",
      "|0000030|     twomp|      14|        57|84dc1383|a twenty dollar b...|\n",
      "|0000032|    ducket|     481|       272|b6d44d3b|a one dollar bill...|\n",
      "|0000033|  beefcake|      13|        35|ec36852d|to become overwei...|\n",
      "|0000035|       mad|       2|        13|d613c917|a multi-functiona...|\n",
      "|0000038|    A-hole|      68|        35|543e595a|            Ass hole|\n",
      "+-------+----------+--------+----------+--------+--------------------+\n",
      "only showing top 20 rows\n",
      "\n"
     ]
    }
   ],
   "source": [
    "data = spark.read.csv(\"./urbandict-word-defs.csv\", header=True)\n",
    "data.show();"
   ]
  },
  {
   "cell_type": "code",
   "execution_count": 3,
   "id": "e6a38139",
   "metadata": {},
   "outputs": [
    {
     "name": "stdout",
     "output_type": "stream",
     "text": [
      "root\n",
      " |-- word_id: string (nullable = true)\n",
      " |-- word: string (nullable = true)\n",
      " |-- up_votes: string (nullable = true)\n",
      " |-- down_votes: string (nullable = true)\n",
      " |-- author: string (nullable = true)\n",
      " |-- definition: string (nullable = true)\n",
      "\n"
     ]
    }
   ],
   "source": [
    "data.printSchema()"
   ]
  },
  {
   "cell_type": "code",
   "execution_count": 4,
   "id": "e741dcf1",
   "metadata": {},
   "outputs": [
    {
     "name": "stdout",
     "output_type": "stream",
     "text": [
      "+-------+---------+--------+----------+--------+--------------------+\n",
      "|word_id|     word|up_votes|down_votes|  author|          definition|\n",
      "+-------+---------+--------+----------+--------+--------------------+\n",
      "|0000007|    Janky|     296|       255|dc397b2f|Undesirable; less...|\n",
      "|0000008| slumpin'|      16|        37|dc397b2f|low down and funk...|\n",
      "|0000009| yayeeyay|      19|        27|dc397b2f|affirmation; sugg...|\n",
      "|0000012|hard-core|     162|        96|d1610749|anything out of o...|\n",
      "|0000013|   brutal|      12|        45|40ece1ef|anything that mak...|\n",
      "+-------+---------+--------+----------+--------+--------------------+\n",
      "\n"
     ]
    }
   ],
   "source": [
    "data.select('*').limit(5).show();"
   ]
  },
  {
   "cell_type": "code",
   "execution_count": 5,
   "id": "132864d9",
   "metadata": {},
   "outputs": [
    {
     "name": "stdout",
     "output_type": "stream",
     "text": [
      "+-------+----------+\n",
      "|word_id|      word|\n",
      "+-------+----------+\n",
      "|0000007|     Janky|\n",
      "|0000008|  slumpin'|\n",
      "|0000009|  yayeeyay|\n",
      "|0000012| hard-core|\n",
      "|0000013|    brutal|\n",
      "|0000014|    skanky|\n",
      "|0000015|    ho-bag|\n",
      "|0000016|   massive|\n",
      "|0000017|       wtf|\n",
      "|0000019|      Hazy|\n",
      "|0000021|      hork|\n",
      "|0000022|     hecka|\n",
      "|0000023|     hella|\n",
      "|0000024|     hecka|\n",
      "|0000028|wet wagons|\n",
      "|0000030|     twomp|\n",
      "|0000032|    ducket|\n",
      "|0000033|  beefcake|\n",
      "|0000035|       mad|\n",
      "|0000038|    A-hole|\n",
      "+-------+----------+\n",
      "only showing top 20 rows\n",
      "\n"
     ]
    }
   ],
   "source": [
    "data.select(\"word_id\", \"word\").show();"
   ]
  },
  {
   "cell_type": "code",
   "execution_count": 6,
   "id": "ea79bf88",
   "metadata": {},
   "outputs": [
    {
     "name": "stderr",
     "output_type": "stream",
     "text": [
      "\r",
      "[Stage 4:>                                                          (0 + 1) / 1]\r"
     ]
    },
    {
     "name": "stdout",
     "output_type": "stream",
     "text": [
      "+-------+------+--------+----------+--------+--------------------+\n",
      "|word_id|  word|up_votes|down_votes|  author|          definition|\n",
      "+-------+------+--------+----------+--------+--------------------+\n",
      "|0000007| Janky|     296|       255|dc397b2f|Undesirable; less...|\n",
      "|0000019|  Hazy|     272|       184|49bc960d|A guys state of m...|\n",
      "|0000032|ducket|     481|       272|b6d44d3b|a one dollar bill...|\n",
      "|0000042|  clap|    1395|       516|543e595a| a case of gonorrhea|\n",
      "|0000050|   dog|    1303|       915|dc397b2f|n. friend of the ...|\n",
      "+-------+------+--------+----------+--------+--------------------+\n",
      "\n"
     ]
    },
    {
     "name": "stderr",
     "output_type": "stream",
     "text": [
      "\r",
      "[Stage 4:===========================================================(1 + 0) / 1]\r",
      "\r",
      "                                                                                \r"
     ]
    }
   ],
   "source": [
    "data.where(data.up_votes > 200).limit(5).show();"
   ]
  },
  {
   "cell_type": "code",
   "execution_count": null,
   "id": "07ffee2f",
   "metadata": {},
   "outputs": [],
   "source": []
  }
 ],
 "metadata": {
  "kernelspec": {
   "display_name": "Python 3 (ipykernel)",
   "language": "python",
   "name": "python3"
  },
  "language_info": {
   "codemirror_mode": {
    "name": "ipython",
    "version": 3
   },
   "file_extension": ".py",
   "mimetype": "text/x-python",
   "name": "python",
   "nbconvert_exporter": "python",
   "pygments_lexer": "ipython3",
   "version": "3.8.10"
  }
 },
 "nbformat": 4,
 "nbformat_minor": 5
}
